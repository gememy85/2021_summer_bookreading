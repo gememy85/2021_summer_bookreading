{
 "cells": [
  {
   "cell_type": "markdown",
   "id": "16f46415",
   "metadata": {},
   "source": [
    "# Overview\n",
    "## 다루게 될 주제\n",
    "- **tensor, reshape, transpose, sum, broad-casting, matrix multiplication, linear regression, Neural network**\n",
    "- 이 노트북 셋팅에서는  ~ 를 다루도록 한다.\n",
    "- "
   ]
  },
  {
   "cell_type": "markdown",
   "id": "fb29a32f",
   "metadata": {
    "slideshow": {
     "slide_type": "-"
    }
   },
   "source": [
    "# Google drive mount"
   ]
  },
  {
   "cell_type": "code",
   "execution_count": null,
   "id": "8f89af99",
   "metadata": {},
   "outputs": [],
   "source": [
    "from google.colab import drive\n",
    "drive.mount('/content/gdrive')"
   ]
  },
  {
   "cell_type": "markdown",
   "id": "5c1d0748",
   "metadata": {},
   "source": [
    "pwd 명령어 실행시 gdrive인 상태에서 !git clone "
   ]
  },
  {
   "cell_type": "markdown",
   "id": "19370898",
   "metadata": {},
   "source": [
    "# 신경망 만들기\n",
    "\n",
    "\n",
    "1. 텐서\n",
    "2. 형상 변환 함수\n",
    "3. 합계 함수\n",
    "4. 브로드캐스트 함수"
   ]
  },
  {
   "cell_type": "markdown",
   "id": "e1fcff80",
   "metadata": {},
   "source": [
    "## 텐서"
   ]
  },
  {
   "cell_type": "markdown",
   "id": "9d12b3af",
   "metadata": {},
   "source": [
    "### 원소별 계산"
   ]
  },
  {
   "cell_type": "code",
   "execution_count": 29,
   "id": "e292d0db",
   "metadata": {},
   "outputs": [],
   "source": [
    "import numpy as np\n",
    "import dezero.functions as F\n",
    "from dezero import Variable"
   ]
  },
  {
   "cell_type": "code",
   "execution_count": 30,
   "id": "0c32a34d",
   "metadata": {},
   "outputs": [
    {
     "name": "stdout",
     "output_type": "stream",
     "text": [
      "variable(0.8414709848078965)\n",
      "variable([[ 0.84147098  0.90929743  0.14112001]\n",
      "          [-0.7568025  -0.95892427 -0.2794155 ]])\n"
     ]
    }
   ],
   "source": [
    "# scalar or vector\n",
    "x = Variable(np.array(1.0))\n",
    "y1 = F.sin(x)\n",
    "\n",
    "# matrix\n",
    "x = Variable(np.array([[1,2,3],[4,5,6]]))\n",
    "y2 = F.sin(x)\n",
    "\n",
    "print(y1)\n",
    "print(y2)"
   ]
  },
  {
   "cell_type": "code",
   "execution_count": 10,
   "id": "2ce521da",
   "metadata": {},
   "outputs": [
    {
     "name": "stdout",
     "output_type": "stream",
     "text": [
      "(2, 3)\n"
     ]
    },
    {
     "data": {
      "text/plain": [
       "variable([[10.84147098 20.90929743 30.14112001]\n",
       "          [39.2431975  49.04107573 59.7205845 ]])"
      ]
     },
     "execution_count": 10,
     "metadata": {},
     "output_type": "execute_result"
    }
   ],
   "source": [
    "# element-wise summation\n",
    "\n",
    "print(y2.shape) # (2,3)\n",
    "\n",
    "c = np.array([[10,20,30],[40,50,60]])\n",
    "y2 + c"
   ]
  },
  {
   "cell_type": "markdown",
   "id": "715b9121",
   "metadata": {},
   "source": [
    "### 텐서 사용시의 역전파\n",
    "- 텐서를 이용한 역전파를 구현해봅니다."
   ]
  },
  {
   "cell_type": "code",
   "execution_count": 13,
   "id": "b6d1911c",
   "metadata": {},
   "outputs": [],
   "source": [
    "x = Variable(np.array([[1,2,3],[4,5,6]]))\n",
    "c = Variable(np.array([[10,20,30],[40,50,60]]))\n",
    "\n",
    "t = x + c\n",
    "y = F.sum(t)"
   ]
  },
  {
   "cell_type": "code",
   "execution_count": 14,
   "id": "21fc3e30",
   "metadata": {},
   "outputs": [
    {
     "name": "stdout",
     "output_type": "stream",
     "text": [
      "variable(231)\n"
     ]
    }
   ],
   "source": [
    "print(y)"
   ]
  },
  {
   "cell_type": "code",
   "execution_count": 16,
   "id": "944d4a24",
   "metadata": {},
   "outputs": [
    {
     "name": "stdout",
     "output_type": "stream",
     "text": [
      "variable(1)\n",
      "variable([[2 2 2]\n",
      "          [2 2 2]])\n",
      "variable([[3 3 3]\n",
      "          [3 3 3]])\n",
      "variable([[3 3 3]\n",
      "          [3 3 3]])\n"
     ]
    }
   ],
   "source": [
    "y.backward(retain_grad=True)\n",
    "print(y.grad)\n",
    "print(t.grad)\n",
    "print(x.grad)\n",
    "print(c.grad)\n",
    "\n",
    "# backward 메서드 호출시 입력했던 t, x, c에 대해서도 역전파가 이루어진 것을 확인할 수 있다."
   ]
  },
  {
   "cell_type": "markdown",
   "id": "584f5fdf",
   "metadata": {},
   "source": [
    "## 형상 변환 함수\n",
    "- reshape, transpose"
   ]
  },
  {
   "cell_type": "code",
   "execution_count": 20,
   "id": "e7604aeb",
   "metadata": {},
   "outputs": [
    {
     "name": "stdout",
     "output_type": "stream",
     "text": [
      "[1 2 3 4 5 6]\n",
      "shape of x : (2, 3) \n",
      "shape of y : (6,)\n"
     ]
    }
   ],
   "source": [
    "import numpy as np\n",
    "\n",
    "x = np.array([[1,2,3],[4,5,6]])\n",
    "y = np.reshape(x, (6,))\n",
    "print(y)\n",
    "print(\"shape of x :\",x.shape,\"\\nshape of y :\", y.shape)"
   ]
  },
  {
   "cell_type": "markdown",
   "id": "e908756e",
   "metadata": {},
   "source": [
    "![title](pictures/picture_38-1.png)\n",
    "\n",
    "역전파는 출력 쪽에서부터 gradient를 전달한다. 이 기울기를 x.data.shape와 x.grad.shape가 동일하도록 변환이 필요하다. 위 그림에서 볼 수 있듯이 vector로 바뀌어 forward 진행을 하고, 다시 backward 할때 2x3의 형태로 바뀌는 것을 볼 수 있다."
   ]
  },
  {
   "cell_type": "markdown",
   "id": "d8af0030",
   "metadata": {},
   "source": [
    "Dezero에서 reshape의 함수 구현에 대해서 살펴보자."
   ]
  },
  {
   "cell_type": "code",
   "execution_count": 3,
   "id": "4ff3f566",
   "metadata": {},
   "outputs": [],
   "source": [
    "import dezero\n",
    "\n",
    "class Reshape(dezero.Function): \n",
    "    # Function을 상속\n",
    "    def __init__(self, shape):\n",
    "        self.shape = shape\n",
    "        \n",
    "    def forward(self, x):\n",
    "        self.x_shape = x.shape\n",
    "        y = x.reshape(self.shape)\n",
    "        return y\n",
    "    \n",
    "    def backward(self, gy):\n",
    "        return reshape(gy, self.x_shape) \n",
    "    \n",
    "# 1. note : gy는 Variable 인스턴스이므로 np.array나 int, float의 값을 넣어주면 계산이 당연히 되지 않는다.\n",
    "# 2. note : forward, backward 모두 형상변환(reshape)이 일어나는 것을 볼 수 있다. forward시에는 변환해야 하는 shape(6,)로 변환해주고, \n",
    "# backward 시에는 기존 x의 shape로 바꿔준다."
   ]
  },
  {
   "cell_type": "markdown",
   "id": "89895a67",
   "metadata": {},
   "source": [
    "reshape 함수의 구현"
   ]
  },
  {
   "cell_type": "code",
   "execution_count": 4,
   "id": "35ea45a4",
   "metadata": {},
   "outputs": [],
   "source": [
    "from dezero.core import as_variable\n",
    "\n",
    "def reshape(x, shape):\n",
    "    if x.shape == Shape:\n",
    "        return as_variable(x) # Variable 인스턴스로 바꿔줌\n",
    "    return Reshape(shape)(x) \n",
    "\n",
    "# Function에서 __call__ 때문에 가능하다. p46참고"
   ]
  },
  {
   "cell_type": "markdown",
   "id": "dac41e74",
   "metadata": {},
   "source": [
    "reshape 함수를 사용해보자."
   ]
  },
  {
   "cell_type": "code",
   "execution_count": 7,
   "id": "a49f8d25",
   "metadata": {},
   "outputs": [
    {
     "name": "stdout",
     "output_type": "stream",
     "text": [
      "y is : variable([1 2 3 4 5 6])\n",
      "gradient of x : variable([[1 1 1]\n",
      "          [1 1 1]])\n"
     ]
    }
   ],
   "source": [
    "import numpy as np\n",
    "from dezero import Variable\n",
    "import dezero.functions as F\n",
    "\n",
    "x = Variable(np.array([[1,2,3],[4,5,6]]))\n",
    "y = F.reshape(x, (6,))\n",
    "y.backward(retain_grad=True)\n",
    "\n",
    "print(\"y is :\",y)\n",
    "print(\"gradient of x :\",x.grad)"
   ]
  },
  {
   "cell_type": "markdown",
   "id": "0ad3dfb5",
   "metadata": {},
   "source": [
    "어떤 일이 일어나고 있는 것일까?\n",
    "\n",
    "![title](pictures/picture_38-2.png)\n",
    "\n",
    "즉, 형상변환함수에 의해 reshape이 일어나고 이에 대해서 각 원소별로 gradient를 계산한 후 다시 형상변환을 적용하고 backward를 진행한 것을 볼 수 있다."
   ]
  },
  {
   "cell_type": "markdown",
   "id": "03dcf120",
   "metadata": {},
   "source": [
    "### Variable에서 reshape 사용하기\n",
    "- dezero의 reshape 함수를 numpy의 reshape와 비슷하게 만들어보자.\n",
    "\n",
    "먼저 numpy에서 reshape이 어떻게 쓰이는지 보자."
   ]
  },
  {
   "cell_type": "code",
   "execution_count": 8,
   "id": "49fba4b0",
   "metadata": {},
   "outputs": [],
   "source": [
    "x = np.random.rand(1,2,3)\n",
    "\n",
    "y = x.reshape((2,3)) # 튜플로 받는다.\n",
    "y = x.reshape([2,3]) # 리스트도 가능하다.\n",
    "y = x.reshape(2,3) # 인수를 그대로 받는 것도 가능"
   ]
  },
  {
   "cell_type": "markdown",
   "id": "9f329850",
   "metadata": {},
   "source": [
    "dezero에서 이를 구현해봅니다."
   ]
  },
  {
   "cell_type": "code",
   "execution_count": 43,
   "id": "64f8ff0e",
   "metadata": {},
   "outputs": [],
   "source": [
    "import dezero\n",
    "\n",
    "class Variable_exp(dezero.Variable):\n",
    "        \n",
    "    def reshape(self, *shape):\n",
    "        if len(shape) == 1 and isinstance(shape[0], (tuple, list)):\n",
    "            shape = shape[0]\n",
    "        return dezero.functions.reshape(self, shape)\n",
    "    \n",
    "# 1. note : isinstance - 인풋된 shape가 튜플 혹은 리스트인지 혹은 어떤 자료형, 클래스인지 확인해준다."
   ]
  },
  {
   "cell_type": "code",
   "execution_count": 44,
   "id": "18913aae",
   "metadata": {},
   "outputs": [
    {
     "name": "stdout",
     "output_type": "stream",
     "text": [
      "x looks like : \n",
      " variable([[[-0.69601877 -0.0803951   0.01445537]\n",
      "           [-0.15785208 -0.31852705  0.74669398]]]) \n",
      "\n",
      "variable([[-0.69601877 -0.0803951   0.01445537]\n",
      "          [-0.15785208 -0.31852705  0.74669398]]) \n",
      " variable([[-0.69601877 -0.0803951   0.01445537]\n",
      "          [-0.15785208 -0.31852705  0.74669398]])\n"
     ]
    }
   ],
   "source": [
    "x = Variable_exp(np.random.randn(1,2,3))\n",
    "y1 = x.reshape((2,3))\n",
    "y2 = x.reshape(2,3)\n",
    "\n",
    "print(\"x looks like : \\n\", x, \"\\n\")\n",
    "print(y1,'\\n', y2)"
   ]
  },
  {
   "cell_type": "markdown",
   "id": "1be7f033",
   "metadata": {},
   "source": [
    "### 행렬 전치"
   ]
  },
  {
   "cell_type": "markdown",
   "id": "53a231bd",
   "metadata": {},
   "source": [
    "![title](pictures/picture_38-3.png)\n",
    "\n",
    "행렬 전치는 numpy에서 어떻게 이루어지는가?"
   ]
  },
  {
   "cell_type": "code",
   "execution_count": 53,
   "id": "74eeb48b",
   "metadata": {},
   "outputs": [
    {
     "name": "stdout",
     "output_type": "stream",
     "text": [
      "[[1 4]\n",
      " [2 5]\n",
      " [3 6]] \n",
      " shape of x :  (2, 3) \n",
      " shape of y :  (3, 2)\n"
     ]
    }
   ],
   "source": [
    "x = np.array([[1,2,3],[4,5,6]])\n",
    "y = np.transpose(x)\n",
    "print(y, '\\n shape of x : ' ,x.shape, '\\n shape of y : ' , y.shape)     "
   ]
  },
  {
   "cell_type": "markdown",
   "id": "b4830a6e",
   "metadata": {},
   "source": [
    "dezero에서 transpose 함수 구현"
   ]
  },
  {
   "cell_type": "code",
   "execution_count": 55,
   "id": "f20555c4",
   "metadata": {},
   "outputs": [],
   "source": [
    "class Transpose(dezero.Function):\n",
    "    \n",
    "    def forward(self, x):\n",
    "        y = np.transpose(x)\n",
    "        return y\n",
    "    \n",
    "    def backward(self, gy):\n",
    "        gx = transpose(gy)\n",
    "        return gx\n",
    "\n",
    "def transpose(x):\n",
    "    return Transpose()(x)"
   ]
  },
  {
   "cell_type": "code",
   "execution_count": 56,
   "id": "b62b0b82",
   "metadata": {},
   "outputs": [
    {
     "name": "stdout",
     "output_type": "stream",
     "text": [
      "variable([[1 1 1]\n",
      "          [1 1 1]])\n"
     ]
    }
   ],
   "source": [
    "x = Variable(np.array([[1,2,3],[4,5,6]]))\n",
    "y = F.transpose(x)\n",
    "y.backward()\n",
    "print(x.grad)"
   ]
  },
  {
   "cell_type": "markdown",
   "id": "41debcc2",
   "metadata": {},
   "source": [
    "Variable 인스턴세에서 transpose 함수를 사용할 수 있도록 다음의 코드를 dezero/core.py에 추가한다."
   ]
  },
  {
   "cell_type": "code",
   "execution_count": null,
   "id": "133a26ba",
   "metadata": {},
   "outputs": [],
   "source": [
    "class Variable(dezero.Variable):\n",
    "    \n",
    "    def transpose(self):\n",
    "        return dezero.functions.transpose(self)\n",
    "    \n",
    "    @property\n",
    "    def T(self):\n",
    "        return dezero.functions.transpose(self)\n",
    "    \n",
    "# 1. note : property 데코레이터는 '인스턴스 변수'로 사용할 수 있게 해준다."
   ]
  },
  {
   "cell_type": "code",
   "execution_count": 65,
   "id": "2abc80ef",
   "metadata": {},
   "outputs": [
    {
     "name": "stdout",
     "output_type": "stream",
     "text": [
      "y1 is  variable([[0.67546866 0.29496431]\n",
      "          [0.89068117 0.12516986]\n",
      "          [0.62906504 0.47936913]]) \n",
      " y2 is variable([[0.67546866 0.29496431]\n",
      "          [0.89068117 0.12516986]\n",
      "          [0.62906504 0.47936913]]) \n",
      "\n",
      "variable([[0. 0.]\n",
      "          [0. 0.]\n",
      "          [0. 0.]])\n"
     ]
    }
   ],
   "source": [
    "# property 데코레이터 사용 e.g\n",
    "\n",
    "x = Variable(np.random.rand(2,3))\n",
    "y1 = x.transpose()\n",
    "y2 = x.T\n",
    "\n",
    "print('y1 is ',y1, '\\n y2 is', y2, '\\n')\n",
    "print(y1 - y2)"
   ]
  },
  {
   "cell_type": "markdown",
   "id": "d684f5af",
   "metadata": {},
   "source": [
    "## 합계 함수\n",
    "Dezero에 합계를 구하는 함수 sum을 추가해보도록 하겠다. 먼저 덧셈의 미분을 복습한 후 sum 함수의 미분을 도출해보도록 한다."
   ]
  },
  {
   "cell_type": "markdown",
   "id": "b76f0c44",
   "metadata": {},
   "source": [
    "$ y = x_{0} + x_{1}$ 일때, $ dy/dx_{0} = 1, dy/dx_{1} = 1$이라는 것을 볼 수 있다.\n",
    "![title](pictures/picture_39-1.png)\n",
    "\n",
    "위 그림은 sum을 진행한 후 역전파를 하는 것을 나타낸다.\n",
    "기울기 1을 2개로 '복사'해서 다시 back propagation을 진행한다. \n",
    "\n",
    "![text](pictures/picture_39-2.png)\n",
    "\n",
    "위 그림은 벡터로 만든 상태에서 벡터에 sum 연산을 진행한 후 역전파하는 것을 나타낸다.\n",
    "기울기가 각 벡터 원소별로 계산되어 [1,1]이 나오는 것을 볼 수 있다."
   ]
  },
  {
   "cell_type": "markdown",
   "id": "367ae94a",
   "metadata": {},
   "source": [
    "### sum 함수 구현\n",
    "우리는 위에서 봤던 첫번째 방법으로 sum 함수를 구현한다. 즉, 역전파시 입력 변수의 형상과 같아지도록 기울기의 원소를 **복사**할 것이다."
   ]
  },
  {
   "cell_type": "code",
   "execution_count": 66,
   "id": "e4e32f5d",
   "metadata": {},
   "outputs": [],
   "source": [
    "class Sum(dezero.Function):\n",
    "    def forward(self, x):\n",
    "        self.x_shape = x.shape\n",
    "        y = x.sum()\n",
    "        return y\n",
    "    \n",
    "    def backward(self, gy):\n",
    "        gx = broadcast_to(gy, self.x_shape)\n",
    "        return gx\n",
    "\n",
    "def sum(x):\n",
    "    return Sum()(x)\n",
    "\n",
    "# 1. note : 다음 단계에서 구현할 broadcast_to 함수를 미리 사용해서 구현한다.\n",
    "# broadcast_to 를 이용해서 기존 x_shape과 같은 모양으로 바꿔준다."
   ]
  },
  {
   "cell_type": "code",
   "execution_count": 67,
   "id": "26e0cf29",
   "metadata": {},
   "outputs": [
    {
     "name": "stdout",
     "output_type": "stream",
     "text": [
      "variable(3.094718172802661)\n",
      "variable([[1. 1. 1.]\n",
      "          [1. 1. 1.]])\n"
     ]
    }
   ],
   "source": [
    "import numpy as np\n",
    "from dezero import Variable\n",
    "import dezero.functions as F\n",
    "\n",
    "X = Variable(np.array([1,2,3,4,5,6]))\n",
    "y = F.sum(x)\n",
    "y.backward() # 역전파 진행.\n",
    "print(y)\n",
    "print(x.grad)"
   ]
  },
  {
   "cell_type": "markdown",
   "id": "903fcb2f",
   "metadata": {},
   "source": [
    "2차원에서도 가능한지 확인해보자"
   ]
  },
  {
   "cell_type": "code",
   "execution_count": 68,
   "id": "615d7403",
   "metadata": {},
   "outputs": [
    {
     "name": "stdout",
     "output_type": "stream",
     "text": [
      "variable(21)\n",
      "variable([[1 1 1]\n",
      "          [1 1 1]])\n"
     ]
    }
   ],
   "source": [
    "x = Variable(np.array([[1,2,3],[4,5,6]]))\n",
    "y = F.sum(x)\n",
    "y.backward()\n",
    "\n",
    "print(y)\n",
    "print(x.grad)"
   ]
  },
  {
   "cell_type": "markdown",
   "id": "48e34a7a",
   "metadata": {},
   "source": [
    "기존 input의 모양대로 나오는 것을 볼 수 있다."
   ]
  },
  {
   "cell_type": "markdown",
   "id": "122a9b43",
   "metadata": {},
   "source": [
    "### axis & keepdims\n",
    "단순히 덧셈을 진행하는 것 외에 '축'을 지정해서 해보도록 하자."
   ]
  },
  {
   "cell_type": "code",
   "execution_count": 69,
   "id": "f10b4548",
   "metadata": {},
   "outputs": [
    {
     "name": "stdout",
     "output_type": "stream",
     "text": [
      "[5 7 9]\n",
      "(2, 3)  ->  (3,)\n"
     ]
    }
   ],
   "source": [
    "x = np.array([[1,2,3],[4,5,6]])\n",
    "y = np.sum(x, axis=0)\n",
    "print(y)\n",
    "print(x.shape, ' -> ', y.shape)\n",
    "\n",
    "# numpy에서는 이와같이 축을 지정할 수 있다.   \n",
    "# Q. 만일 axis = 1로 했을 경우 어떤 결과가 나올 까?"
   ]
  },
  {
   "cell_type": "markdown",
   "id": "1dee9ae8",
   "metadata": {},
   "source": [
    "![title](pictures/picture_39-4.png)\n",
    "\n",
    "axis에 따른 계산 결과는 다음과 같다.\n",
    "\n",
    "![title](pictures/picture_39-5.png)"
   ]
  },
  {
   "cell_type": "markdown",
   "id": "a0aee85f",
   "metadata": {},
   "source": [
    "이 외에도 keepdims라는 인수도 존재한다. keepdim는 입력과 출력의 차원 수를 똑같게 유지할지 정하는 플래그이다."
   ]
  },
  {
   "cell_type": "code",
   "execution_count": 72,
   "id": "0d13fbce",
   "metadata": {},
   "outputs": [
    {
     "name": "stdout",
     "output_type": "stream",
     "text": [
      "(2, 3)\n",
      "[[21]]\n",
      "(1, 1)\n"
     ]
    }
   ],
   "source": [
    "x = np.array([[1,2,3],[4,5,6]])\n",
    "y = np.sum(x, keepdims = True)\n",
    "\n",
    "print(x.shape)\n",
    "print(y)\n",
    "print(y.shape)\n",
    "\n",
    "# 입력 dim이 유지가 되는 것을 볼 수 있다."
   ]
  },
  {
   "cell_type": "markdown",
   "id": "db94ab61",
   "metadata": {},
   "source": [
    "Sum 함수에 axis 기능과 keepdim 기능을 부여해보자."
   ]
  },
  {
   "cell_type": "code",
   "execution_count": 73,
   "id": "1f1b2764",
   "metadata": {},
   "outputs": [],
   "source": [
    "from dezero import utils\n",
    "\n",
    "class Sum(dezero.Function):\n",
    "    \n",
    "    def __init__(self, axis, keepdims):\n",
    "        self.axis = axis\n",
    "        self.keepdims = keepdims\n",
    "        \n",
    "    def forward(self, x):\n",
    "        self.x_shape = x.shape\n",
    "        y = x.sum(axis = self.axis, keepdims = self.keepdims)\n",
    "        return y\n",
    "    \n",
    "    def backward(self, gy):\n",
    "        gy = utils.reshape_sum_backward(gy, self.x_shape, self.axis, self.keepdims)\n",
    "        gx = broadcast_to(gy, self.x_shape)\n",
    "        return gx\n",
    "    \n",
    "def sum(x, axis=None, keepdims =False):\n",
    "    return Sum(axis, keepdims)(x)"
   ]
  },
  {
   "cell_type": "markdown",
   "id": "b1876047",
   "metadata": {},
   "source": [
    "완성된 sum 함수를 Variable의 메서드로 사용할 수 있도록 추가해준다."
   ]
  },
  {
   "cell_type": "code",
   "execution_count": 74,
   "id": "53cea9b6",
   "metadata": {},
   "outputs": [],
   "source": [
    "class Variable:\n",
    "    \n",
    "    def sum(self, axis=None, keepdims=False):\n",
    "        return dezero.functions.sum(self, axis, keepdims)"
   ]
  },
  {
   "cell_type": "code",
   "execution_count": 76,
   "id": "02a95ba1",
   "metadata": {},
   "outputs": [
    {
     "name": "stdout",
     "output_type": "stream",
     "text": [
      "variable([5 7 9])\n",
      "variable([[1 1 1]\n",
      "          [1 1 1]])\n",
      "(1, 1, 1, 1)\n"
     ]
    }
   ],
   "source": [
    "# 사용예시\n",
    "from dezero import Variable\n",
    "\n",
    "x = Variable(np.array([[1,2,3],[4,5,6]]))\n",
    "y = F.sum(x, axis=0)\n",
    "y.backward()\n",
    "print(y)\n",
    "print(x.grad)\n",
    "\n",
    "x = Variable(np.random.rand(2,3,4,5))\n",
    "y = x.sum(keepdims=True)\n",
    "print(y.shape)"
   ]
  },
  {
   "cell_type": "markdown",
   "id": "6de644b0",
   "metadata": {},
   "source": [
    "# discussion questions\n",
    "\n",
    "1. 텐서란 무엇인가?\n",
    "2. 텐서를 왜 이용하는가?\n",
    "3. 텐서로 역전파를 시행하는데, 그 과정을 구체적으로 말해보라.\n",
    "4. 행렬 전치란 무엇인가?"
   ]
  }
 ],
 "metadata": {
  "celltoolbar": "Raw Cell Format",
  "kernelspec": {
   "display_name": "Python36",
   "language": "python",
   "name": "python36"
  },
  "language_info": {
   "codemirror_mode": {
    "name": "ipython",
    "version": 3
   },
   "file_extension": ".py",
   "mimetype": "text/x-python",
   "name": "python",
   "nbconvert_exporter": "python",
   "pygments_lexer": "ipython3",
   "version": "3.6.8"
  },
  "latex_envs": {
   "LaTeX_envs_menu_present": true,
   "autoclose": false,
   "autocomplete": true,
   "bibliofile": "biblio.bib",
   "cite_by": "apalike",
   "current_citInitial": 1,
   "eqLabelWithNumbers": true,
   "eqNumInitial": 1,
   "hotkeys": {
    "equation": "Ctrl-E",
    "itemize": "Ctrl-I"
   },
   "labels_anchors": false,
   "latex_user_defs": false,
   "report_style_numbering": false,
   "user_envs_cfg": false
  },
  "toc": {
   "base_numbering": 1,
   "nav_menu": {},
   "number_sections": true,
   "sideBar": true,
   "skip_h1_title": false,
   "title_cell": "Table of Contents",
   "title_sidebar": "Contents",
   "toc_cell": false,
   "toc_position": {
    "height": "calc(100% - 180px)",
    "left": "10px",
    "top": "150px",
    "width": "222.102px"
   },
   "toc_section_display": true,
   "toc_window_display": true
  }
 },
 "nbformat": 4,
 "nbformat_minor": 5
}

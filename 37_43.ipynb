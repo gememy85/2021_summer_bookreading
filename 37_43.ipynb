{
 "cells": [
  {
   "cell_type": "markdown",
   "id": "16f46415",
   "metadata": {},
   "source": [
    "# 제4고지 : 신경망 만들기\n",
    "## 다루게 될 주제\n",
    "#### 37 단계 : 텐서를 다루다\n",
    "#### 38 단계 : 형상 변환 함수\n",
    "#### 39 단계 : 합계 함수\n",
    "#### 40 단계 : 브로드캐스트 함수\n",
    "#### 41 단계 : 행렬의 곱\n",
    "#### 42 단계 : 선형회귀\n",
    "#### 43 단계 : 신경망\n",
    "\n",
    "- **tensor, reshape, transpose, sum, broad-casting, matrix multiplication, linear regression, Neural network**\n",
    "- 이 노트북 셋팅에서는 지금까지 배웠던 내용을 \n",
    "    - 텐서 상황에서 사용할 수 있도록 **모듈링**하는 것.\n",
    "    - 이 모든 것을 이용해서 간단한 **선형회귀** 구현\n",
    "    - 간단한 **신경망 구현**"
   ]
  },
  {
   "cell_type": "markdown",
   "id": "fb29a32f",
   "metadata": {
    "slideshow": {
     "slide_type": "-"
    }
   },
   "source": [
    "# Google drive mount"
   ]
  },
  {
   "cell_type": "code",
   "execution_count": null,
   "id": "8f89af99",
   "metadata": {},
   "outputs": [],
   "source": [
    "from google.colab import drive\n",
    "drive.mount('/content/gdrive')"
   ]
  },
  {
   "cell_type": "markdown",
   "id": "5c1d0748",
   "metadata": {},
   "source": [
    "pwd 명령어 실행시 gdrive인 상태에서 !git clone "
   ]
  },
  {
   "cell_type": "markdown",
   "id": "e1fcff80",
   "metadata": {},
   "source": [
    "## STEP 37 : 텐서를 다루다"
   ]
  },
  {
   "cell_type": "markdown",
   "id": "9d12b3af",
   "metadata": {},
   "source": [
    "### 37.1 원소별 계산"
   ]
  },
  {
   "cell_type": "code",
   "execution_count": 29,
   "id": "e292d0db",
   "metadata": {},
   "outputs": [],
   "source": [
    "import numpy as np\n",
    "import dezero.functions as F\n",
    "from dezero import Variable"
   ]
  },
  {
   "cell_type": "code",
   "execution_count": 30,
   "id": "0c32a34d",
   "metadata": {},
   "outputs": [
    {
     "name": "stdout",
     "output_type": "stream",
     "text": [
      "variable(0.8414709848078965)\n",
      "variable([[ 0.84147098  0.90929743  0.14112001]\n",
      "          [-0.7568025  -0.95892427 -0.2794155 ]])\n"
     ]
    }
   ],
   "source": [
    "# scalar or vector\n",
    "x = Variable(np.array(1.0))\n",
    "y1 = F.sin(x)\n",
    "\n",
    "# matrix\n",
    "x = Variable(np.array([[1,2,3],[4,5,6]]))\n",
    "y2 = F.sin(x)\n",
    "\n",
    "print(y1)\n",
    "print(y2)"
   ]
  },
  {
   "cell_type": "code",
   "execution_count": 10,
   "id": "2ce521da",
   "metadata": {},
   "outputs": [
    {
     "name": "stdout",
     "output_type": "stream",
     "text": [
      "(2, 3)\n"
     ]
    },
    {
     "data": {
      "text/plain": [
       "variable([[10.84147098 20.90929743 30.14112001]\n",
       "          [39.2431975  49.04107573 59.7205845 ]])"
      ]
     },
     "execution_count": 10,
     "metadata": {},
     "output_type": "execute_result"
    }
   ],
   "source": [
    "# element-wise summation\n",
    "\n",
    "print(y2.shape) # (2,3)\n",
    "\n",
    "c = np.array([[10,20,30],[40,50,60]])\n",
    "y2 + c"
   ]
  },
  {
   "cell_type": "markdown",
   "id": "715b9121",
   "metadata": {},
   "source": [
    "### 텐서 사용시의 역전파\n",
    "- 텐서를 이용한 역전파를 구현해봅니다."
   ]
  },
  {
   "cell_type": "code",
   "execution_count": 13,
   "id": "b6d1911c",
   "metadata": {},
   "outputs": [],
   "source": [
    "x = Variable(np.array([[1,2,3],[4,5,6]]))\n",
    "c = Variable(np.array([[10,20,30],[40,50,60]]))\n",
    "\n",
    "t = x + c\n",
    "y = F.sum(t)"
   ]
  },
  {
   "cell_type": "code",
   "execution_count": 14,
   "id": "21fc3e30",
   "metadata": {},
   "outputs": [
    {
     "name": "stdout",
     "output_type": "stream",
     "text": [
      "variable(231)\n"
     ]
    }
   ],
   "source": [
    "print(y)"
   ]
  },
  {
   "cell_type": "code",
   "execution_count": 16,
   "id": "944d4a24",
   "metadata": {},
   "outputs": [
    {
     "name": "stdout",
     "output_type": "stream",
     "text": [
      "variable(1)\n",
      "variable([[2 2 2]\n",
      "          [2 2 2]])\n",
      "variable([[3 3 3]\n",
      "          [3 3 3]])\n",
      "variable([[3 3 3]\n",
      "          [3 3 3]])\n"
     ]
    }
   ],
   "source": [
    "y.backward(retain_grad=True)\n",
    "print(y.grad)\n",
    "print(t.grad)\n",
    "print(x.grad)\n",
    "print(c.grad)\n",
    "\n",
    "# backward 메서드 호출시 입력했던 t, x, c에 대해서도 역전파가 이루어진 것을 확인할 수 있다."
   ]
  },
  {
   "cell_type": "markdown",
   "id": "584f5fdf",
   "metadata": {},
   "source": [
    "## 형상 변환 함수\n",
    "- reshape, transpose"
   ]
  },
  {
   "cell_type": "code",
   "execution_count": 20,
   "id": "e7604aeb",
   "metadata": {},
   "outputs": [
    {
     "name": "stdout",
     "output_type": "stream",
     "text": [
      "[1 2 3 4 5 6]\n",
      "shape of x : (2, 3) \n",
      "shape of y : (6,)\n"
     ]
    }
   ],
   "source": [
    "import numpy as np\n",
    "\n",
    "x = np.array([[1,2,3],[4,5,6]])\n",
    "y = np.reshape(x, (6,))\n",
    "print(y)\n",
    "print(\"shape of x :\",x.shape,\"\\nshape of y :\", y.shape)"
   ]
  },
  {
   "cell_type": "markdown",
   "id": "e908756e",
   "metadata": {},
   "source": [
    "![title](pictures/picture_38-1.png)\n",
    "\n",
    "역전파는 출력 쪽에서부터 gradient를 전달한다. 이 기울기를 x.data.shape와 x.grad.shape가 동일하도록 변환이 필요하다. 위 그림에서 볼 수 있듯이 vector로 바뀌어 forward 진행을 하고, 다시 backward 할때 2x3의 형태로 바뀌는 것을 볼 수 있다."
   ]
  },
  {
   "cell_type": "markdown",
   "id": "d8af0030",
   "metadata": {},
   "source": [
    "Dezero에서 reshape의 함수 구현에 대해서 살펴보자."
   ]
  },
  {
   "cell_type": "code",
   "execution_count": 3,
   "id": "4ff3f566",
   "metadata": {},
   "outputs": [],
   "source": [
    "import dezero\n",
    "\n",
    "class Reshape(dezero.Function): \n",
    "    # Function을 상속\n",
    "    def __init__(self, shape):\n",
    "        self.shape = shape\n",
    "        \n",
    "    def forward(self, x):\n",
    "        self.x_shape = x.shape\n",
    "        y = x.reshape(self.shape)\n",
    "        return y\n",
    "    \n",
    "    def backward(self, gy):\n",
    "        return reshape(gy, self.x_shape) \n",
    "    \n",
    "# 1. note : gy는 Variable 인스턴스이므로 np.array나 int, float의 값을 넣어주면 계산이 당연히 되지 않는다.\n",
    "# 2. note : forward, backward 모두 형상변환(reshape)이 일어나는 것을 볼 수 있다. forward시에는 변환해야 하는 shape(6,)로 변환해주고, \n",
    "# backward 시에는 기존 x의 shape로 바꿔준다."
   ]
  },
  {
   "cell_type": "markdown",
   "id": "89895a67",
   "metadata": {},
   "source": [
    "reshape 함수의 구현"
   ]
  },
  {
   "cell_type": "code",
   "execution_count": 4,
   "id": "35ea45a4",
   "metadata": {},
   "outputs": [],
   "source": [
    "from dezero.core import as_variable\n",
    "\n",
    "def reshape(x, shape):\n",
    "    if x.shape == Shape:\n",
    "        return as_variable(x) # Variable 인스턴스로 바꿔줌\n",
    "    return Reshape(shape)(x) \n",
    "\n",
    "# Function에서 __call__ 때문에 가능하다. p46참고"
   ]
  },
  {
   "cell_type": "markdown",
   "id": "dac41e74",
   "metadata": {},
   "source": [
    "reshape 함수를 사용해보자."
   ]
  },
  {
   "cell_type": "code",
   "execution_count": 7,
   "id": "a49f8d25",
   "metadata": {},
   "outputs": [
    {
     "name": "stdout",
     "output_type": "stream",
     "text": [
      "y is : variable([1 2 3 4 5 6])\n",
      "gradient of x : variable([[1 1 1]\n",
      "          [1 1 1]])\n"
     ]
    }
   ],
   "source": [
    "import numpy as np\n",
    "from dezero import Variable\n",
    "import dezero.functions as F\n",
    "\n",
    "x = Variable(np.array([[1,2,3],[4,5,6]]))\n",
    "y = F.reshape(x, (6,))\n",
    "y.backward(retain_grad=True)\n",
    "\n",
    "print(\"y is :\",y)\n",
    "print(\"gradient of x :\",x.grad)"
   ]
  },
  {
   "cell_type": "markdown",
   "id": "0ad3dfb5",
   "metadata": {},
   "source": [
    "어떤 일이 일어나고 있는 것일까?\n",
    "\n",
    "![title](pictures/picture_38-2.png)\n",
    "\n",
    "즉, 형상변환함수에 의해 reshape이 일어나고 이에 대해서 각 원소별로 gradient를 계산한 후 다시 형상변환을 적용하고 backward를 진행한 것을 볼 수 있다."
   ]
  },
  {
   "cell_type": "markdown",
   "id": "03dcf120",
   "metadata": {},
   "source": [
    "### Variable에서 reshape 사용하기\n",
    "- dezero의 reshape 함수를 numpy의 reshape와 비슷하게 만들어보자.\n",
    "\n",
    "먼저 numpy에서 reshape이 어떻게 쓰이는지 보자."
   ]
  },
  {
   "cell_type": "code",
   "execution_count": 8,
   "id": "49fba4b0",
   "metadata": {},
   "outputs": [],
   "source": [
    "x = np.random.rand(1,2,3)\n",
    "\n",
    "y = x.reshape((2,3)) # 튜플로 받는다.\n",
    "y = x.reshape([2,3]) # 리스트도 가능하다.\n",
    "y = x.reshape(2,3) # 인수를 그대로 받는 것도 가능"
   ]
  },
  {
   "cell_type": "markdown",
   "id": "9f329850",
   "metadata": {},
   "source": [
    "dezero에서 이를 구현해봅니다."
   ]
  },
  {
   "cell_type": "code",
   "execution_count": 43,
   "id": "64f8ff0e",
   "metadata": {},
   "outputs": [],
   "source": [
    "import dezero\n",
    "\n",
    "class Variable_exp(dezero.Variable):\n",
    "        \n",
    "    def reshape(self, *shape):\n",
    "        if len(shape) == 1 and isinstance(shape[0], (tuple, list)):\n",
    "            shape = shape[0]\n",
    "        return dezero.functions.reshape(self, shape)\n",
    "    \n",
    "# 1. note : isinstance - 인풋된 shape가 튜플 혹은 리스트인지 혹은 어떤 자료형, 클래스인지 확인해준다."
   ]
  },
  {
   "cell_type": "code",
   "execution_count": 44,
   "id": "18913aae",
   "metadata": {},
   "outputs": [
    {
     "name": "stdout",
     "output_type": "stream",
     "text": [
      "x looks like : \n",
      " variable([[[-0.69601877 -0.0803951   0.01445537]\n",
      "           [-0.15785208 -0.31852705  0.74669398]]]) \n",
      "\n",
      "variable([[-0.69601877 -0.0803951   0.01445537]\n",
      "          [-0.15785208 -0.31852705  0.74669398]]) \n",
      " variable([[-0.69601877 -0.0803951   0.01445537]\n",
      "          [-0.15785208 -0.31852705  0.74669398]])\n"
     ]
    }
   ],
   "source": [
    "x = Variable_exp(np.random.randn(1,2,3))\n",
    "y1 = x.reshape((2,3))\n",
    "y2 = x.reshape(2,3)\n",
    "\n",
    "print(\"x looks like : \\n\", x, \"\\n\")\n",
    "print(y1,'\\n', y2)"
   ]
  },
  {
   "cell_type": "markdown",
   "id": "1be7f033",
   "metadata": {},
   "source": [
    "### 행렬 전치"
   ]
  },
  {
   "cell_type": "markdown",
   "id": "53a231bd",
   "metadata": {},
   "source": [
    "![title](pictures/picture_38-3.png)\n",
    "\n",
    "행렬 전치는 numpy에서 어떻게 이루어지는가?"
   ]
  },
  {
   "cell_type": "code",
   "execution_count": 53,
   "id": "74eeb48b",
   "metadata": {},
   "outputs": [
    {
     "name": "stdout",
     "output_type": "stream",
     "text": [
      "[[1 4]\n",
      " [2 5]\n",
      " [3 6]] \n",
      " shape of x :  (2, 3) \n",
      " shape of y :  (3, 2)\n"
     ]
    }
   ],
   "source": [
    "x = np.array([[1,2,3],[4,5,6]])\n",
    "y = np.transpose(x)\n",
    "print(y, '\\n shape of x : ' ,x.shape, '\\n shape of y : ' , y.shape)     "
   ]
  },
  {
   "cell_type": "markdown",
   "id": "b4830a6e",
   "metadata": {},
   "source": [
    "dezero에서 transpose 함수 구현"
   ]
  },
  {
   "cell_type": "code",
   "execution_count": 55,
   "id": "f20555c4",
   "metadata": {},
   "outputs": [],
   "source": [
    "class Transpose(dezero.Function):\n",
    "    \n",
    "    def forward(self, x):\n",
    "        y = np.transpose(x)\n",
    "        return y\n",
    "    \n",
    "    def backward(self, gy):\n",
    "        gx = transpose(gy)\n",
    "        return gx\n",
    "\n",
    "def transpose(x):\n",
    "    return Transpose()(x)"
   ]
  },
  {
   "cell_type": "code",
   "execution_count": 56,
   "id": "b62b0b82",
   "metadata": {},
   "outputs": [
    {
     "name": "stdout",
     "output_type": "stream",
     "text": [
      "variable([[1 1 1]\n",
      "          [1 1 1]])\n"
     ]
    }
   ],
   "source": [
    "x = Variable(np.array([[1,2,3],[4,5,6]]))\n",
    "y = F.transpose(x)\n",
    "y.backward()\n",
    "print(x.grad)"
   ]
  },
  {
   "cell_type": "markdown",
   "id": "41debcc2",
   "metadata": {},
   "source": [
    "Variable 인스턴세에서 transpose 함수를 사용할 수 있도록 다음의 코드를 dezero/core.py에 추가한다."
   ]
  },
  {
   "cell_type": "code",
   "execution_count": null,
   "id": "133a26ba",
   "metadata": {},
   "outputs": [],
   "source": [
    "class Variable(dezero.Variable):\n",
    "    \n",
    "    def transpose(self):\n",
    "        return dezero.functions.transpose(self)\n",
    "    \n",
    "    @property\n",
    "    def T(self):\n",
    "        return dezero.functions.transpose(self)\n",
    "    \n",
    "# 1. note : property 데코레이터는 '인스턴스 변수'로 사용할 수 있게 해준다."
   ]
  },
  {
   "cell_type": "code",
   "execution_count": 65,
   "id": "2abc80ef",
   "metadata": {},
   "outputs": [
    {
     "name": "stdout",
     "output_type": "stream",
     "text": [
      "y1 is  variable([[0.67546866 0.29496431]\n",
      "          [0.89068117 0.12516986]\n",
      "          [0.62906504 0.47936913]]) \n",
      " y2 is variable([[0.67546866 0.29496431]\n",
      "          [0.89068117 0.12516986]\n",
      "          [0.62906504 0.47936913]]) \n",
      "\n",
      "variable([[0. 0.]\n",
      "          [0. 0.]\n",
      "          [0. 0.]])\n"
     ]
    }
   ],
   "source": [
    "# property 데코레이터 사용 e.g\n",
    "\n",
    "x = Variable(np.random.rand(2,3))\n",
    "y1 = x.transpose()\n",
    "y2 = x.T\n",
    "\n",
    "print('y1 is ',y1, '\\n y2 is', y2, '\\n')\n",
    "print(y1 - y2)"
   ]
  },
  {
   "cell_type": "markdown",
   "id": "d684f5af",
   "metadata": {},
   "source": [
    "## 합계 함수\n",
    "Dezero에 합계를 구하는 함수 sum을 추가해보도록 하겠다. 먼저 덧셈의 미분을 복습한 후 sum 함수의 미분을 도출해보도록 한다."
   ]
  },
  {
   "cell_type": "markdown",
   "id": "b76f0c44",
   "metadata": {},
   "source": [
    "$ y = x_{0} + x_{1}$ 일때, $ dy/dx_{0} = 1, dy/dx_{1} = 1$이라는 것을 볼 수 있다.\n",
    "![title](pictures/picture_39-1.png)\n",
    "\n",
    "위 그림은 sum을 진행한 후 역전파를 하는 것을 나타낸다.\n",
    "기울기 1을 2개로 '복사'해서 다시 back propagation을 진행한다. \n",
    "\n",
    "![text](pictures/picture_39-2.png)\n",
    "\n",
    "위 그림은 벡터로 만든 상태에서 벡터에 sum 연산을 진행한 후 역전파하는 것을 나타낸다.\n",
    "기울기가 각 벡터 원소별로 계산되어 [1,1]이 나오는 것을 볼 수 있다."
   ]
  },
  {
   "cell_type": "markdown",
   "id": "367ae94a",
   "metadata": {},
   "source": [
    "### sum 함수 구현\n",
    "우리는 위에서 봤던 첫번째 방법으로 sum 함수를 구현한다. 즉, 역전파시 입력 변수의 형상과 같아지도록 기울기의 원소를 **복사**할 것이다."
   ]
  },
  {
   "cell_type": "code",
   "execution_count": 66,
   "id": "e4e32f5d",
   "metadata": {},
   "outputs": [],
   "source": [
    "class Sum(dezero.Function):\n",
    "    def forward(self, x):\n",
    "        self.x_shape = x.shape\n",
    "        y = x.sum()\n",
    "        return y\n",
    "    \n",
    "    def backward(self, gy):\n",
    "        gx = broadcast_to(gy, self.x_shape)\n",
    "        return gx\n",
    "\n",
    "def sum(x):\n",
    "    return Sum()(x)\n",
    "\n",
    "# 1. note : 다음 단계에서 구현할 broadcast_to 함수를 미리 사용해서 구현한다.\n",
    "# broadcast_to 를 이용해서 기존 x_shape과 같은 모양으로 바꿔준다."
   ]
  },
  {
   "cell_type": "code",
   "execution_count": 67,
   "id": "26e0cf29",
   "metadata": {},
   "outputs": [
    {
     "name": "stdout",
     "output_type": "stream",
     "text": [
      "variable(3.094718172802661)\n",
      "variable([[1. 1. 1.]\n",
      "          [1. 1. 1.]])\n"
     ]
    }
   ],
   "source": [
    "import numpy as np\n",
    "from dezero import Variable\n",
    "import dezero.functions as F\n",
    "\n",
    "X = Variable(np.array([1,2,3,4,5,6]))\n",
    "y = F.sum(x)\n",
    "y.backward() # 역전파 진행.\n",
    "print(y)\n",
    "print(x.grad)"
   ]
  },
  {
   "cell_type": "markdown",
   "id": "903fcb2f",
   "metadata": {},
   "source": [
    "2차원에서도 가능한지 확인해보자"
   ]
  },
  {
   "cell_type": "code",
   "execution_count": 68,
   "id": "615d7403",
   "metadata": {},
   "outputs": [
    {
     "name": "stdout",
     "output_type": "stream",
     "text": [
      "variable(21)\n",
      "variable([[1 1 1]\n",
      "          [1 1 1]])\n"
     ]
    }
   ],
   "source": [
    "x = Variable(np.array([[1,2,3],[4,5,6]]))\n",
    "y = F.sum(x)\n",
    "y.backward()\n",
    "\n",
    "print(y)\n",
    "print(x.grad)"
   ]
  },
  {
   "cell_type": "markdown",
   "id": "48e34a7a",
   "metadata": {},
   "source": [
    "기존 input의 모양대로 나오는 것을 볼 수 있다."
   ]
  },
  {
   "cell_type": "markdown",
   "id": "122a9b43",
   "metadata": {},
   "source": [
    "### axis & keepdims\n",
    "단순히 덧셈을 진행하는 것 외에 '축'을 지정해서 해보도록 하자."
   ]
  },
  {
   "cell_type": "code",
   "execution_count": 69,
   "id": "f10b4548",
   "metadata": {},
   "outputs": [
    {
     "name": "stdout",
     "output_type": "stream",
     "text": [
      "[5 7 9]\n",
      "(2, 3)  ->  (3,)\n"
     ]
    }
   ],
   "source": [
    "x = np.array([[1,2,3],[4,5,6]])\n",
    "y = np.sum(x, axis=0)\n",
    "print(y)\n",
    "print(x.shape, ' -> ', y.shape)\n",
    "\n",
    "# numpy에서는 이와같이 축을 지정할 수 있다.   \n",
    "# Q. 만일 axis = 1로 했을 경우 어떤 결과가 나올 까?"
   ]
  },
  {
   "cell_type": "markdown",
   "id": "1dee9ae8",
   "metadata": {},
   "source": [
    "![title](pictures/picture_39-4.png)\n",
    "\n",
    "axis에 따른 계산 결과는 다음과 같다.\n",
    "\n",
    "![title](pictures/picture_39-5.png)"
   ]
  },
  {
   "cell_type": "markdown",
   "id": "716a8ed1",
   "metadata": {},
   "source": [
    "이 외에도 keepdims라는 인수도 존재한다. keepdim는 입력과 출력의 차원 수를 똑같게 유지할지 정하는 플래그이다."
   ]
  },
  {
   "cell_type": "code",
   "execution_count": 72,
   "id": "d53d7e20",
   "metadata": {},
   "outputs": [
    {
     "name": "stdout",
     "output_type": "stream",
     "text": [
      "(2, 3)\n",
      "[[21]]\n",
      "(1, 1)\n"
     ]
    }
   ],
   "source": [
    "x = np.array([[1,2,3],[4,5,6]])\n",
    "y = np.sum(x, keepdims = True)\n",
    "\n",
    "print(x.shape)\n",
    "print(y)\n",
    "print(y.shape)\n",
    "\n",
    "# 입력 dim이 유지가 되는 것을 볼 수 있다."
   ]
  },
  {
   "cell_type": "markdown",
   "id": "675d84b8",
   "metadata": {},
   "source": [
    "Sum 함수에 axis 기능과 keepdim 기능을 부여해보자."
   ]
  },
  {
   "cell_type": "code",
   "execution_count": 73,
   "id": "ae4c3f22",
   "metadata": {},
   "outputs": [],
   "source": [
    "from dezero import utils\n",
    "\n",
    "class Sum(dezero.Function):\n",
    "    \n",
    "    def __init__(self, axis, keepdims):\n",
    "        self.axis = axis\n",
    "        self.keepdims = keepdims\n",
    "        \n",
    "    def forward(self, x):\n",
    "        self.x_shape = x.shape\n",
    "        y = x.sum(axis = self.axis, keepdims = self.keepdims)\n",
    "        return y\n",
    "    \n",
    "    def backward(self, gy):\n",
    "        gy = utils.reshape_sum_backward(gy, self.x_shape, self.axis, self.keepdims)\n",
    "        gx = broadcast_to(gy, self.x_shape)\n",
    "        return gx\n",
    "    \n",
    "def sum(x, axis=None, keepdims =False):\n",
    "    return Sum(axis, keepdims)(x)"
   ]
  },
  {
   "cell_type": "markdown",
   "id": "e37e622a",
   "metadata": {},
   "source": [
    "완성된 sum 함수를 Variable의 메서드로 사용할 수 있도록 추가해준다."
   ]
  },
  {
   "cell_type": "code",
   "execution_count": 74,
   "id": "9f073666",
   "metadata": {},
   "outputs": [],
   "source": [
    "class Variable:\n",
    "    \n",
    "    def sum(self, axis=None, keepdims=False):\n",
    "        return dezero.functions.sum(self, axis, keepdims)"
   ]
  },
  {
   "cell_type": "code",
   "execution_count": 76,
   "id": "21b0470b",
   "metadata": {},
   "outputs": [
    {
     "name": "stdout",
     "output_type": "stream",
     "text": [
      "variable([5 7 9])\n",
      "variable([[1 1 1]\n",
      "          [1 1 1]])\n",
      "(1, 1, 1, 1)\n"
     ]
    }
   ],
   "source": [
    "# 사용예시\n",
    "from dezero import Variable\n",
    "\n",
    "x = Variable(np.array([[1,2,3],[4,5,6]]))\n",
    "y = F.sum(x, axis=0)\n",
    "y.backward()\n",
    "print(y)\n",
    "print(x.grad)\n",
    "\n",
    "x = Variable(np.random.rand(2,3,4,5))\n",
    "y = x.sum(keepdims=True)\n",
    "print(y.shape)"
   ]
  },
  {
   "cell_type": "markdown",
   "id": "db6ca79e",
   "metadata": {},
   "source": [
    "## STEP 40 : 브로드캐스트 함수"
   ]
  },
  {
   "cell_type": "markdown",
   "id": "2b8366d4",
   "metadata": {},
   "source": [
    "이번 장에서는 broadcast_to 함수를 구현한다. DeZero에서도 넘파이와 같은 브로드캐스트를 할 수 있도록 DeZero 함수를 손보겠다."
   ]
  },
  {
   "cell_type": "markdown",
   "id": "40e185ea",
   "metadata": {},
   "source": [
    "### 40.1 broadcast_to 함수와 sum_to 함수(넘파이 버전)"
   ]
  },
  {
   "cell_type": "code",
   "execution_count": 84,
   "id": "0af54b7f",
   "metadata": {},
   "outputs": [
    {
     "name": "stdout",
     "output_type": "stream",
     "text": [
      "y is : \n",
      " [[1 2 3]\n",
      " [1 2 3]] \n",
      " shape of y :  (2, 3)\n"
     ]
    }
   ],
   "source": [
    "# 넘파이에서의 예시\n",
    "\n",
    "import numpy as np\n",
    "x = np.array([1,2,3])\n",
    "y = np.broadcast_to(x, (2,3))\n",
    "print(\"y is : \\n\", y, '\\n shape of y : ', y.shape)"
   ]
  },
  {
   "cell_type": "markdown",
   "id": "babde1c0",
   "metadata": {},
   "source": [
    "이렇게 브로드캐스트 후 역전파를 수행하면 어떻게 될까?\n",
    "\n",
    "\n",
    "![title](pictures/picture_40-1.png)"
   ]
  },
  {
   "cell_type": "code",
   "execution_count": 96,
   "id": "2e305d7f",
   "metadata": {},
   "outputs": [
    {
     "name": "stdout",
     "output_type": "stream",
     "text": [
      "[[5 7 9]] (1, 3)\n",
      "[[ 6]\n",
      " [15]] (2, 1)\n"
     ]
    }
   ],
   "source": [
    "import numpy as np\n",
    "from dezero.utils import sum_to\n",
    "\n",
    "x = np.array([[1,2,3],[4,5,6]])\n",
    "y = sum_to(x, (1,3))\n",
    "print(y, y.shape)\n",
    "\n",
    "y = sum_to(x, (2,1))\n",
    "print(y, y.shape)"
   ]
  },
  {
   "cell_type": "markdown",
   "id": "3933a467",
   "metadata": {},
   "source": [
    "![title](pictures/picture_40-2.png)"
   ]
  },
  {
   "cell_type": "code",
   "execution_count": null,
   "id": "e1f7a5df",
   "metadata": {},
   "outputs": [],
   "source": [
    "# Dezero에서 구현된 broadcastto 구현\n",
    "class BroadcastTo(dezero.Function):\n",
    "    def __init__(self, shape):\n",
    "        self.shape=shape\n",
    "        \n",
    "    def forward(self, x):\n",
    "        self.x_shape = x.shape\n",
    "        y = np.broadcast_to(x, self.shape)\n",
    "        return y\n",
    "    \n",
    "    def backward(self, gy):\n",
    "        gx = sum_to(gy, self.x_shape)\n",
    "        return gx\n",
    "\n",
    "def broadcast_to(x, shape):\n",
    "    if x.shape == shape : \n",
    "        return as_variable(x)\n",
    "    return BroadcastTo(shape)(x)"
   ]
  },
  {
   "cell_type": "code",
   "execution_count": null,
   "id": "ac380379",
   "metadata": {},
   "outputs": [],
   "source": [
    "from dezero import utils\n",
    "\n",
    "class SumTo(dezero.Function):\n",
    "    def __init__(self, shape):\n",
    "        self.shape = shape\n",
    "        \n",
    "    def forward(self, x):\n",
    "        self.x_shape = x.shape\n",
    "        y = utils.sum_to(x, self.shape)\n",
    "        return y\n",
    "    \n",
    "    def backward(self, gy):\n",
    "        gx = broadcast_to(gy, self.x_shape)\n",
    "        return gx\n",
    "\n",
    "def sum_to(x, shape):\n",
    "    if x.shape == shape:\n",
    "        return as_varaible(x)\n",
    "    return SumTo(shape)(x)"
   ]
  },
  {
   "cell_type": "markdown",
   "id": "6328f8e5",
   "metadata": {},
   "source": [
    "### 40.3 브로드캐스트 대응"
   ]
  },
  {
   "cell_type": "code",
   "execution_count": 100,
   "id": "dd8d39de",
   "metadata": {},
   "outputs": [
    {
     "name": "stdout",
     "output_type": "stream",
     "text": [
      "[11 12 13]\n"
     ]
    }
   ],
   "source": [
    "x0 = np.array([1,2,3])\n",
    "x1 = np.array([10])\n",
    "y = x0 + x1\n",
    "print(y)"
   ]
  },
  {
   "cell_type": "code",
   "execution_count": 101,
   "id": "27a7deea",
   "metadata": {},
   "outputs": [
    {
     "name": "stdout",
     "output_type": "stream",
     "text": [
      "variable([11 12 13])\n"
     ]
    }
   ],
   "source": [
    "x0 = Variable(np.array([1,2,3]))\n",
    "x1 = Variable(np.array([10]))\n",
    "y = x0 + x1\n",
    "print(y)"
   ]
  },
  {
   "cell_type": "code",
   "execution_count": 102,
   "id": "66a921d7",
   "metadata": {},
   "outputs": [],
   "source": [
    "class Add(dezero.Function):\n",
    "    def forward(self, x0, x1):\n",
    "        self.x0_shape, self.x1_shape = x0.shape, x1.shape\n",
    "        y = x0 + x1\n",
    "        return y\n",
    "    \n",
    "    def backward(self, gy):\n",
    "        if self.x0_shape != self.x1_shape:\n",
    "            gx0 = dezero.functions.sum_to(gx0, self.x0_shape)\n",
    "            gx1 = dezero.functions.sum_to(gx1, self.x1_shape)\n",
    "        return gx0, gx1"
   ]
  },
  {
   "cell_type": "code",
   "execution_count": 103,
   "id": "34010b00",
   "metadata": {},
   "outputs": [
    {
     "name": "stdout",
     "output_type": "stream",
     "text": [
      "variable([11 12 13])\n",
      "variable([3])\n"
     ]
    }
   ],
   "source": [
    "import numpy as np\n",
    "from dezero import Variable\n",
    "\n",
    "x0 = Variable(np.array([1,2,3]))\n",
    "x1 = Variable(np.array([10]))\n",
    "\n",
    "y = x0 + x1\n",
    "print(y)\n",
    "\n",
    "y.backward()\n",
    "print(x1.grad)"
   ]
  },
  {
   "cell_type": "markdown",
   "id": "d2af91ac",
   "metadata": {},
   "source": [
    "## STEP 41 : 행렬의 곱"
   ]
  },
  {
   "cell_type": "markdown",
   "id": "0a9d0ade",
   "metadata": {},
   "source": [
    "### 41.1 벡터의 내적과 행렬의 곱\n",
    "- 행렬의 내적 : $ a = (a_1, a_2, ... a_n) $  $ b = (b_1, b_2, ..., b_n) $ 이라고 가정하면 \n",
    "\n",
    "![벡터의내적](pictures/formula_41.1.png)\n",
    "\n",
    "- 행렬의 곱 : \n",
    "\n",
    "![행렬곱](pictures/picture_41-1.png)"
   ]
  },
  {
   "cell_type": "code",
   "execution_count": 113,
   "id": "13f28bce",
   "metadata": {},
   "outputs": [
    {
     "name": "stdout",
     "output_type": "stream",
     "text": [
      "the dot product is  32\n",
      "the output of matrix multiplication is \n",
      " [[19 22]\n",
      " [43 50]] \n",
      "\n",
      " [[19 22]\n",
      " [43 50]]\n"
     ]
    }
   ],
   "source": [
    "import numpy as np\n",
    "\n",
    "a = np.array([1,2,3])\n",
    "b = np.array([4,5,6])\n",
    "c = np.dot(a,b)\n",
    "print(\"the dot product is \", c)\n",
    "\n",
    "a = np.array([[1,2],[3,4]])\n",
    "b = np.array([[5,6],[7,8]])\n",
    "print(\"the output of matrix multiplication is \\n\",a@b,'\\n\\n',np.dot(a,b))\n",
    "# np.dot은 1차원일 경우 내적을 진행\n",
    "# 2차원 배열이면 행렬의 곱을 진행한다."
   ]
  },
  {
   "cell_type": "markdown",
   "id": "a4155757",
   "metadata": {},
   "source": [
    "### 41.2 행렬의 형상 체크\n",
    "행렬과 벡터 계산에서는 '형상'에 주의해야 한다. \n",
    "\n",
    "![그림](pictures/picture_41-2.png)\n",
    "\n",
    "바로, 3x2 행렬과 2x4의 행렬을 곱해서 3x4의 행렬을 만들듯 서로 곱해지는 행렬의 대응하는 차원의 원소 수가 일치해야 한다. 여기서는 앞 행렬의 열이 2, 뒤 행렬의 행이 2로 일치하는 것을 볼 수 있다."
   ]
  },
  {
   "cell_type": "markdown",
   "id": "3c76bdfe",
   "metadata": {},
   "source": [
    "### 41.3 행렬 곱의 역전파\n",
    "행렬 곱의 역전파를 알아보자. 우리는 행렬 곱의 역전파를 matmul함수로 구현할 것이다.\n",
    "$ y = xW $라는 계산을 예로 들어 행렬 곱의 역전파를 설명한다. $x$는 1xD, $W$는 DxH, $y$는 1xH의 형태를 지닌다.\n",
    "\n",
    "\n",
    "\n",
    "![title](pictures/picture_41-3.png)\n",
    "\n",
    "보다시피 여기서 L은 스칼라에 해당한다. 그렇다면 나온 결과값 L에 대해서 input이었던 $x$에 대해서 미분을 진행하게 된다면 다음과 같이 쓸 수 있다.\n",
    "\n",
    "![title](pictures/formula_41.2.png)\n",
    "그러나 사실 $dy_j/dx_i = W_y$가 성립한다. 왜냐하면 $y_j = x_1 W_1j + x_2 W_2j + ... + x_i W_ij + x_H W_Hj$이다. 따라서, $ dy_j / dx_i = W_ij $가 성립함을 알 수 있다.\n",
    "\n",
    "![title](pictures/formula_41.3.png)\n",
    "이것은 W의 i행 벡터와 $dL/dy$의 내적이므로 다음과 같이 쓸 수 있다.\n",
    "\n",
    "![title](pictures/formula_41.4.png)"
   ]
  },
  {
   "cell_type": "markdown",
   "id": "fd9a2d79",
   "metadata": {},
   "source": [
    "행렬곱의 역전파를 어떻게 하는지 알아보자. 위의 식을 그대로 반대로하여 역전파를 진행하면 된다. \n",
    "$ y = xW $를 예로 생각해보자. x의 형상이 N x D라고 한다면 각각 NxD, DxH, NxH의 형상을 갖게 된다.\n",
    "\n",
    "![title](pictures/picture_41-5.png) ![title](pictures/picture_41-6.png)"
   ]
  },
  {
   "cell_type": "code",
   "execution_count": 124,
   "id": "f132959a",
   "metadata": {},
   "outputs": [],
   "source": [
    "class MatMul(dezero.Function):\n",
    "    def forward(self, x, W):\n",
    "        y = x.dot(W)\n",
    "        return y\n",
    "    \n",
    "    def backward(self, gy):\n",
    "        x, W = self.inputs\n",
    "        gx = matmul(gy, W.T)\n",
    "        gW = matmul(x.T, gy)\n",
    "        return gx, gW\n",
    "    \n",
    "\n",
    "def matmul(x, W):\n",
    "    return MatMul()(x,W)"
   ]
  },
  {
   "cell_type": "code",
   "execution_count": 128,
   "id": "591884bb",
   "metadata": {},
   "outputs": [
    {
     "name": "stdout",
     "output_type": "stream",
     "text": [
      "variable([[ 0.08418898 -1.04811305 -1.05054897]\n",
      "          [-1.62394946  1.50056457 -0.2547281 ]]) \n",
      " shape of x : (2, 3)\n",
      "variable([[ 0.05268812 -0.61597989  0.98095225  0.03847272]\n",
      "          [-0.2446035  -1.57375072 -0.75989432  3.42012541]\n",
      "          [-0.23635317 -0.67306886  0.52683415  1.3909708 ]]) \n",
      " shape of W : (3, 4)\n"
     ]
    }
   ],
   "source": [
    "# 사용 예시\n",
    "from dezero import Variable\n",
    "import dezero.functions as F\n",
    "\n",
    "x = Variable(np.random.randn(2,3))\n",
    "W = Variable(np.random.randn(3,4))\n",
    "y = F.matmul(x, W)\n",
    "y.backward()\n",
    "\n",
    "print(x,'\\n',\"shape of x :\",x.grad.shape)\n",
    "print(W,'\\n',\"shape of W :\",W.grad.shape)"
   ]
  },
  {
   "cell_type": "markdown",
   "id": "ad030aaf",
   "metadata": {},
   "source": [
    "## STEP 42 : 선형회귀"
   ]
  },
  {
   "cell_type": "markdown",
   "id": "1e67573a",
   "metadata": {},
   "source": [
    "### 42.1 토이 데이터셋"
   ]
  },
  {
   "cell_type": "code",
   "execution_count": 129,
   "id": "4a1c882f",
   "metadata": {},
   "outputs": [],
   "source": [
    "import numpy as np\n",
    "\n",
    "np.random.seed(0) # 시드값 고정\n",
    "x = np.random.rand(100,1)\n",
    "y = 5 + 2*x + np.random.rand(100,1) # y에 무작위 노이즈 추가"
   ]
  },
  {
   "cell_type": "code",
   "execution_count": 139,
   "id": "85735023",
   "metadata": {},
   "outputs": [
    {
     "data": {
      "text/plain": [
       "<AxesSubplot:>"
      ]
     },
     "execution_count": 139,
     "metadata": {},
     "output_type": "execute_result"
    },
    {
     "data": {
      "image/png": "[encoded data removed]",
      "text/plain": [
       "<Figure size 432x288 with 1 Axes>"
      ]
     },
     "metadata": {
      "needs_background": "light"
     },
     "output_type": "display_data"
    }
   ],
   "source": [
    "import seaborn as sns\n",
    "\n",
    "sns.scatterplot(x.reshape(100),y.reshape(100))"
   ]
  },
  {
   "cell_type": "markdown",
   "id": "29d37e30",
   "metadata": {},
   "source": [
    "### 42.2 선형회귀 이론\n",
    "> 목표는 주어진 데이터를 잘 표현하는 함수를 찾는 것\\\n",
    "> $ y = Wx + b $의 식으로 **선형** 관계를 표시할 수 있다.\n",
    "\n",
    "![title](pictures/picture_42-2.png)\n",
    "\n",
    "이 식에서 오차를 최소화하는 것을 **잔차를 최소화** 하는 것이라 한다. 이를 위해 일종의 오차를 나타내는 지표를 정의하게 된다.\n",
    "\n",
    "![titel](pictures/formula_42.1.png)\n",
    "위의 식을 **평균 제곱 오차(mean squared error)** 라고 부른다. 우리는 이것을 **손실함수**라고 부를 것이며, 손실함수의 출력을 최소화하는 방법을 찾아야 한다. "
   ]
  },
  {
   "cell_type": "markdown",
   "id": "e7c8043f",
   "metadata": {},
   "source": [
    "### 42.3 선형회귀 구현"
   ]
  },
  {
   "cell_type": "code",
   "execution_count": 140,
   "id": "19c612b8",
   "metadata": {},
   "outputs": [],
   "source": [
    "# 먼저 토이 데이터셋을 구성한다.\n",
    "import numpy as np\n",
    "from dezero import Variable\n",
    "import dezero.functions as F\n",
    "\n",
    "# toy dataset\n",
    "np.random.seed(0)\n",
    "x = np.random.rand(100,1)\n",
    "y = 5 + 2*x + np.random.rand(100,1)\n",
    "x, y = Variable(x), Variable(y)\n",
    "\n",
    "W = Variable(np.zeros((1,1)))\n",
    "b = Variable(np.zeros(1))\n",
    "\n",
    "def predict(x):\n",
    "    y = F.matmul(x,W) + b\n",
    "    return y"
   ]
  },
  {
   "cell_type": "markdown",
   "id": "28de339a",
   "metadata": {},
   "source": [
    "predict 함수는 행렬 곱도 가능한 함수이다. \n",
    "![title](pictures/picture_42-3.png)\n",
    "\n",
    "행렬곱이 이루어지는 원리는 아래와 같다.\n",
    "\n",
    "![title](pictures/picture_42-4.png)"
   ]
  },
  {
   "cell_type": "code",
   "execution_count": 149,
   "id": "33eddd6a",
   "metadata": {},
   "outputs": [
    {
     "name": "stdout",
     "output_type": "stream",
     "text": [
      "\n",
      "the loss :  variable(0.07623408811480073)\n",
      "\n",
      "the loss :  variable(0.0762340656754432)\n",
      "\n",
      "the loss :  variable(0.07623404383389304)\n",
      "\n",
      "the loss :  variable(0.07623402257422397)\n",
      "\n",
      "the loss :  variable(0.07623400188093413)\n",
      "\n",
      "the loss :  variable(0.07623398173893459)\n",
      "\n",
      "the loss :  variable(0.07623396213353843)\n",
      "\n",
      "the loss :  variable(0.07623394305044999)\n",
      "\n",
      "the loss :  variable(0.0762339244757544)\n",
      "\n",
      "the loss :  variable(0.07623390639590762)\n",
      "\n",
      "the loss :  variable(0.07623388879772634)\n",
      "\n",
      "the loss :  variable(0.07623387166837853)\n",
      "\n",
      "the loss :  variable(0.076233854995374)\n",
      "\n",
      "the loss :  variable(0.07623383876655523)\n",
      "\n",
      "the loss :  variable(0.07623382297008872)\n",
      "\n",
      "the loss :  variable(0.07623380759445615)\n",
      "\n",
      "the loss :  variable(0.07623379262844612)\n",
      "\n",
      "the loss :  variable(0.07623377806114578)\n",
      "\n",
      "the loss :  variable(0.07623376388193318)\n",
      "\n",
      "the loss :  variable(0.07623375008046922)\n",
      "\n",
      "the loss :  variable(0.0762337366466903)\n",
      "\n",
      "the loss :  variable(0.07623372357080091)\n",
      "\n",
      "the loss :  variable(0.07623371084326651)\n",
      "\n",
      "the loss :  variable(0.07623369845480658)\n",
      "\n",
      "the loss :  variable(0.07623368639638789)\n",
      "\n",
      "the loss :  variable(0.07623367465921765)\n",
      "\n",
      "the loss :  variable(0.07623366323473765)\n",
      "\n",
      "the loss :  variable(0.0762336521146174)\n",
      "\n",
      "the loss :  variable(0.07623364129074847)\n",
      "\n",
      "the loss :  variable(0.07623363075523837)\n",
      "\n",
      "the loss :  variable(0.07623362050040505)\n",
      "\n",
      "the loss :  variable(0.07623361051877091)\n",
      "\n",
      "the loss :  variable(0.0762336008030576)\n",
      "\n",
      "the loss :  variable(0.07623359134618087)\n",
      "\n",
      "the loss :  variable(0.07623358214124491)\n",
      "\n",
      "the loss :  variable(0.0762335731815378)\n",
      "\n",
      "the loss :  variable(0.07623356446052643)\n",
      "\n",
      "the loss :  variable(0.07623355597185169)\n",
      "\n",
      "the loss :  variable(0.07623354770932386)\n",
      "\n",
      "the loss :  variable(0.07623353966691818)\n",
      "\n",
      "the loss :  variable(0.07623353183877037)\n",
      "\n",
      "the loss :  variable(0.07623352421917243)\n",
      "\n",
      "the loss :  variable(0.07623351680256825)\n",
      "\n",
      "the loss :  variable(0.07623350958354999)\n",
      "\n",
      "the loss :  variable(0.07623350255685372)\n",
      "\n",
      "the loss :  variable(0.07623349571735578)\n",
      "\n",
      "the loss :  variable(0.07623348906006905)\n",
      "\n",
      "the loss :  variable(0.07623348258013919)\n",
      "\n",
      "the loss :  variable(0.07623347627284124)\n",
      "\n",
      "the loss :  variable(0.07623347013357618)\n",
      "\n",
      "the loss :  variable(0.07623346415786733)\n",
      "\n",
      "the loss :  variable(0.07623345834135754)\n",
      "\n",
      "the loss :  variable(0.07623345267980539)\n",
      "\n",
      "the loss :  variable(0.07623344716908279)\n",
      "\n",
      "the loss :  variable(0.07623344180517147)\n",
      "\n",
      "the loss :  variable(0.07623343658416017)\n",
      "\n",
      "the loss :  variable(0.07623343150224192)\n",
      "\n",
      "the loss :  variable(0.07623342655571116)\n",
      "\n",
      "the loss :  variable(0.076233421740961)\n",
      "\n",
      "the loss :  variable(0.0762334170544807)\n",
      "\n",
      "the loss :  variable(0.07623341249285298)\n",
      "\n",
      "the loss :  variable(0.0762334080527517)\n",
      "\n",
      "the loss :  variable(0.07623340373093922)\n",
      "\n",
      "the loss :  variable(0.07623339952426425)\n",
      "\n",
      "the loss :  variable(0.07623339542965932)\n",
      "\n",
      "the loss :  variable(0.07623339144413885)\n",
      "\n",
      "the loss :  variable(0.07623338756479674)\n",
      "\n",
      "the loss :  variable(0.07623338378880423)\n",
      "\n",
      "the loss :  variable(0.07623338011340797)\n",
      "\n",
      "the loss :  variable(0.07623337653592807)\n",
      "\n",
      "the loss :  variable(0.07623337305375581)\n",
      "\n",
      "the loss :  variable(0.07623336966435224)\n",
      "\n",
      "the loss :  variable(0.07623336636524575)\n",
      "\n",
      "the loss :  variable(0.07623336315403084)\n",
      "\n",
      "the loss :  variable(0.07623336002836602)\n",
      "\n",
      "the loss :  variable(0.07623335698597201)\n",
      "\n",
      "the loss :  variable(0.07623335402463047)\n",
      "\n",
      "the loss :  variable(0.07623335114218213)\n",
      "\n",
      "the loss :  variable(0.07623334833652515)\n",
      "\n",
      "the loss :  variable(0.07623334560561369)\n",
      "\n",
      "the loss :  variable(0.07623334294745654)\n",
      "\n",
      "the loss :  variable(0.07623334036011535)\n",
      "\n",
      "the loss :  variable(0.0762333378417036)\n",
      "\n",
      "the loss :  variable(0.07623333539038488)\n",
      "\n",
      "the loss :  variable(0.07623333300437178)\n",
      "\n",
      "the loss :  variable(0.07623333068192453)\n",
      "\n",
      "the loss :  variable(0.07623332842134962)\n",
      "\n",
      "the loss :  variable(0.07623332622099872)\n",
      "\n",
      "the loss :  variable(0.0762333240792674)\n",
      "\n",
      "the loss :  variable(0.07623332199459397)\n",
      "\n",
      "the loss :  variable(0.0762333199654584)\n",
      "\n",
      "the loss :  variable(0.07623331799038109)\n",
      "\n",
      "the loss :  variable(0.07623331606792177)\n",
      "\n",
      "the loss :  variable(0.07623331419667875)\n",
      "\n",
      "the loss :  variable(0.07623331237528758)\n",
      "\n",
      "the loss :  variable(0.07623331060242008)\n",
      "\n",
      "the loss :  variable(0.07623330887678362)\n",
      "\n",
      "the loss :  variable(0.07623330719711982)\n",
      "\n",
      "the loss :  variable(0.07623330556220402)\n",
      "\n",
      "the loss :  variable(0.07623330397084403)\n"
     ]
    }
   ],
   "source": [
    "def mean_squared_error(x0, x1):\n",
    "    diff = x0 - x1\n",
    "    return F.sum(diff ** 2) / len(diff)\n",
    "\n",
    "lr = 0.1\n",
    "iters = 100\n",
    "\n",
    "for i in range(iters):\n",
    "    y_pred = predict(x)\n",
    "    loss = mean_squared_error(y, y_pred)\n",
    "    \n",
    "    W.cleargrad()\n",
    "    b.cleargrad()\n",
    "    loss.backward()\n",
    "    \n",
    "    W.data -= lr * W.grad.data\n",
    "    b.data -= lr * b.grad.data\n",
    "    print('\\nthe loss : ',loss)\n",
    "# loss 가 줄어드는 것을 확인할 수 있다."
   ]
  },
  {
   "cell_type": "markdown",
   "id": "917d4ab9",
   "metadata": {},
   "source": [
    "이 매개변수로 얻어진 그래프는 아래와 같다.\n",
    "![title](pictures/picture_42-5.png)"
   ]
  },
  {
   "cell_type": "markdown",
   "id": "714d4ef6",
   "metadata": {},
   "source": [
    "### 42.4 [보충] Dezero의 mean_squared_error 함수\n",
    "우리는 위에서 mean_squared_error를 구현했다. 그러나 조정이 필요하다. 아래의 그림을 보자.\n",
    "\n",
    "![title](pictures/picture_42-6.png)\n",
    "\n",
    "여기서 볼 수 있는 것은 이름 없는 변수 세개가 등장한다는 것이다. 계산 그래프가 존재하는 동안 이것들은 메모리에 계속 남아있게 된다. 좀더 효율적인 방식으로 코드를 구현해보자. "
   ]
  },
  {
   "cell_type": "code",
   "execution_count": 150,
   "id": "9024070a",
   "metadata": {},
   "outputs": [],
   "source": [
    "class MeanSquareError(dezero.Function):\n",
    "    def forward(self, x0, x1):\n",
    "        diff = x0 - x1\n",
    "        y = (diff ** 2).sum() / len(diff)\n",
    "        return y\n",
    "    \n",
    "    def backward(self, gy):\n",
    "        x0, x1 = self.inputs\n",
    "        diff = x0 - x1\n",
    "        gx0 = gy * diff * (2. / len(diff))\n",
    "        gx1 = -gx0\n",
    "        return gx0, gx1\n",
    "    \n",
    "def mean_squared_error(x0, x1):\n",
    "    return MeanSquareError()(x0, x1)\n",
    "\n",
    "# 이렇게 구현하면 중간이 생성되는 변수들 생기지 않는다!"
   ]
  },
  {
   "cell_type": "markdown",
   "id": "b6ff1f85",
   "metadata": {},
   "source": [
    "![title](pictures/picture_42-7.png)\n"
   ]
  },
  {
   "cell_type": "markdown",
   "id": "bc06fd86",
   "metadata": {},
   "source": [
    "## STEP 43 : 신경망"
   ]
  },
  {
   "cell_type": "markdown",
   "id": "471d47a7",
   "metadata": {},
   "source": [
    "### 43.1 DeZero의 Linear 함수\n",
    "`y = F.matul(x, W) + b `의 형태를 **선형변환** 혹은 **아핀 변환**이라고 부른다. \n",
    "이번 절에서는 앞의 선형 변환을 linear 함수로 구현한다. 우리는 다음과 같이 두 가지 방식으로 구현을 시도한다.\n",
    "\n",
    "![title](pictures/picture_43-1.png)"
   ]
  },
  {
   "cell_type": "code",
   "execution_count": 151,
   "id": "46194e89",
   "metadata": {},
   "outputs": [],
   "source": [
    "# 일단 함수로 구현\n",
    "\n",
    "def linear_simple(x, W, b=None):\n",
    "    t = matmul(x, W)\n",
    "    if b is None:\n",
    "        return t\n",
    "    \n",
    "    y = t + b\n",
    "    t.data = None\n",
    "    return y\n"
   ]
  },
  {
   "cell_type": "markdown",
   "id": "9cbc70b2",
   "metadata": {},
   "source": [
    "### 43.2 비선형 데이터셋"
   ]
  },
  {
   "cell_type": "code",
   "execution_count": 152,
   "id": "7c501c1c",
   "metadata": {},
   "outputs": [],
   "source": [
    "import numpy as np\n",
    "\n",
    "np.random.seed(0)\n",
    "x = np.random.rand(100,1)\n",
    "y = np.sin(2 * np.pi * x) + np.random.rand(100, 1) # 데이터 생성에 sin 함수 이용\n"
   ]
  },
  {
   "cell_type": "code",
   "execution_count": 160,
   "id": "dc6946a4",
   "metadata": {},
   "outputs": [
    {
     "data": {
      "text/plain": [
       "<matplotlib.collections.PathCollection at 0x7f7ecb428630>"
      ]
     },
     "execution_count": 160,
     "metadata": {},
     "output_type": "execute_result"
    },
    {
     "data": {
      "image/png": "[encoded data removed]",
      "text/plain": [
       "<Figure size 432x288 with 1 Axes>"
      ]
     },
     "metadata": {
      "needs_background": "light"
     },
     "output_type": "display_data"
    }
   ],
   "source": [
    "plt.scatter(x,y)"
   ]
  },
  {
   "cell_type": "markdown",
   "id": "9798e973",
   "metadata": {},
   "source": [
    "### 43.3 활성화 함수와 신경망\n",
    "활성화 함수란 신경망에서 선형 변환의 출력에 비선형 변환을 해주는 함수를 말한다. 대표적으로 ReLU, Sigmoid function이 있다. \n",
    "\n",
    "![title](pictures/formula_43.1.png)"
   ]
  },
  {
   "cell_type": "code",
   "execution_count": 161,
   "id": "b50d8526",
   "metadata": {},
   "outputs": [],
   "source": [
    "# dezero에 구현된 sigmoid\n",
    "\n",
    "def sigmoid_simple(x):\n",
    "    x = as_variable(x)\n",
    "    y = 1/(1+exp(-x))\n",
    "    return y\n",
    "# exp는 이미 dezero 코드 내에 구현되어 있음."
   ]
  },
  {
   "cell_type": "markdown",
   "id": "73bc22ec",
   "metadata": {},
   "source": [
    "### 43.4 신경망 구현"
   ]
  },
  {
   "cell_type": "code",
   "execution_count": 165,
   "id": "a7e44f32",
   "metadata": {},
   "outputs": [],
   "source": [
    "# 2층 신경망 구현\n",
    "\n",
    "def predict(x):\n",
    "    y = F.linear(x, W1, b1) # 또는 F.linear_simple(...)\n",
    "    y = F.sigmoid(y) #또는 F.sigmoid_simple(y)\n",
    "    y = F.linear(y, W2, b2)\n",
    "    return y\n",
    "# point : 선형변환후 활성화함수 진행 선형변환 -> 활성화 함수 -> 선형변환 -> 활성화 함수 ..."
   ]
  },
  {
   "cell_type": "code",
   "execution_count": 166,
   "id": "eb8ac1ff",
   "metadata": {},
   "outputs": [],
   "source": [
    "import numpy as np\n",
    "from dezero import Variable\n",
    "import dezero.functions as F\n",
    "\n",
    "# 데이터셋\n",
    "\n"
   ]
  },
  {
   "cell_type": "markdown",
   "id": "f8bac6d5",
   "metadata": {},
   "source": [
    "![title](pictures/picture_43-4.png)"
   ]
  },
  {
   "cell_type": "markdown",
   "id": "6de644b0",
   "metadata": {},
   "source": [
    "# discussion questions\n",
    "\n",
    "1. 텐서란 무엇인가?\n",
    "2. 텐서를 왜 이용하는가?\n",
    "3. 텐서로 역전파를 시행하는데, 그 과정을 구체적으로 말해보라.\n",
    "4. 행렬 전치란 무엇인가?"
   ]
  },
  {
   "cell_type": "code",
   "execution_count": null,
   "id": "27d80e63",
   "metadata": {},
   "outputs": [],
   "source": []
  }
 ],
 "metadata": {
  "celltoolbar": "Raw Cell Format",
  "kernelspec": {
   "display_name": "Python36",
   "language": "python",
   "name": "python36"
  },
  "language_info": {
   "codemirror_mode": {
    "name": "ipython",
    "version": 3
   },
   "file_extension": ".py",
   "mimetype": "text/x-python",
   "name": "python",
   "nbconvert_exporter": "python",
   "pygments_lexer": "ipython3",
   "version": "3.6.8"
  },
  "latex_envs": {
   "LaTeX_envs_menu_present": true,
   "autoclose": false,
   "autocomplete": true,
   "bibliofile": "biblio.bib",
   "cite_by": "apalike",
   "current_citInitial": 1,
   "eqLabelWithNumbers": true,
   "eqNumInitial": 1,
   "hotkeys": {
    "equation": "Ctrl-E",
    "itemize": "Ctrl-I"
   },
   "labels_anchors": false,
   "latex_user_defs": false,
   "report_style_numbering": false,
   "user_envs_cfg": false
  },
  "toc": {
   "base_numbering": 1,
   "nav_menu": {},
   "number_sections": false,
   "sideBar": true,
   "skip_h1_title": false,
   "title_cell": "Table of Contents",
   "title_sidebar": "Contents",
   "toc_cell": false,
   "toc_position": {
    "height": "calc(100% - 180px)",
    "left": "10px",
    "top": "150px",
    "width": "222.102px"
   },
   "toc_section_display": true,
   "toc_window_display": true
  }
 },
 "nbformat": 4,
 "nbformat_minor": 5
}
